{
 "cells": [
  {
   "cell_type": "markdown",
   "metadata": {},
   "source": [
    "# Importing Stuff"
   ]
  },
  {
   "cell_type": "code",
   "execution_count": 1,
   "metadata": {},
   "outputs": [],
   "source": [
    "import pandas as pd\n",
    "import matplotlib.pyplot as plt\n",
    "import seaborn as sns"
   ]
  },
  {
   "cell_type": "code",
   "execution_count": 2,
   "metadata": {},
   "outputs": [],
   "source": [
    "hub_covid = pd.read_csv('../data/hub_covid_violations.csv')\n",
    "davidson_cases = pd.read_csv('../data/davidson_cases.csv')"
   ]
  },
  {
   "cell_type": "markdown",
   "metadata": {},
   "source": [
    "# Converting to Datetime"
   ]
  },
  {
   "cell_type": "code",
   "execution_count": 3,
   "metadata": {},
   "outputs": [],
   "source": [
    "hub_covid['Date / Time Opened'] = hub_covid['Date / Time Opened'][:-4]\n",
    "hub_covid['Date / Time Closed'] = hub_covid['Date / Time Closed'][:-4]\n",
    "\n",
    "hub_covid['Date / Time Opened'] = pd.to_datetime(hub_covid['Date / Time Opened'], format='%Y-%m-%d %H:%M:%S')\n",
    "hub_covid['Date / Time Closed'] = pd.to_datetime(hub_covid['Date / Time Closed'], format='%Y-%m-%d %H:%M:%S')\n",
    "\n",
    "davidson_cases['date'] = pd.to_datetime(davidson_cases['date'], format='%Y-%m-%d')"
   ]
  },
  {
   "cell_type": "code",
   "execution_count": 4,
   "metadata": {},
   "outputs": [],
   "source": [
    "hub_covid['month_day'] = hub_covid['Date / Time Opened'].dt.strftime('%m/%d')\n",
    "davidson_cases['month_day'] = davidson_cases['date'].dt.strftime('%m/%d')"
   ]
  },
  {
   "cell_type": "code",
   "execution_count": 5,
   "metadata": {},
   "outputs": [],
   "source": [
    "sorted_davidson = davidson_cases.sort_values(by = 'month_day')"
   ]
  },
  {
   "cell_type": "code",
   "execution_count": 6,
   "metadata": {},
   "outputs": [],
   "source": [
    "sorted_covid = hub_covid.sort_values(by = 'month_day')"
   ]
  },
  {
   "cell_type": "markdown",
   "metadata": {},
   "source": [
    "# Adding Per Day Counts to sorted_davidson"
   ]
  },
  {
   "cell_type": "code",
   "execution_count": 7,
   "metadata": {},
   "outputs": [],
   "source": [
    "sorted_davidson['deaths_per_day'] = -1\n",
    "sorted_davidson['cases_per_day'] = -1"
   ]
  },
  {
   "cell_type": "code",
   "execution_count": 8,
   "metadata": {},
   "outputs": [
    {
     "name": "stderr",
     "output_type": "stream",
     "text": [
      "C:\\Users\\savro\\anaconda3\\lib\\site-packages\\ipykernel_launcher.py:5: SettingWithCopyWarning: \n",
      "A value is trying to be set on a copy of a slice from a DataFrame\n",
      "\n",
      "See the caveats in the documentation: https://pandas.pydata.org/pandas-docs/stable/user_guide/indexing.html#returning-a-view-versus-a-copy\n",
      "  \"\"\"\n",
      "C:\\Users\\savro\\anaconda3\\lib\\site-packages\\ipykernel_launcher.py:3: SettingWithCopyWarning: \n",
      "A value is trying to be set on a copy of a slice from a DataFrame\n",
      "\n",
      "See the caveats in the documentation: https://pandas.pydata.org/pandas-docs/stable/user_guide/indexing.html#returning-a-view-versus-a-copy\n",
      "  This is separate from the ipykernel package so we can avoid doing imports until\n"
     ]
    }
   ],
   "source": [
    "for index, row in sorted_davidson.iterrows():\n",
    "    if index > 0:\n",
    "        sorted_davidson['deaths_per_day'][index] = sorted_davidson['deaths'][index] - sorted_davidson['deaths'][index-1]\n",
    "    if sorted_davidson['deaths_per_day'][index] < 0:\n",
    "        sorted_davidson['deaths_per_day'][index] = 0"
   ]
  },
  {
   "cell_type": "code",
   "execution_count": 9,
   "metadata": {},
   "outputs": [
    {
     "name": "stderr",
     "output_type": "stream",
     "text": [
      "C:\\Users\\savro\\anaconda3\\lib\\site-packages\\ipykernel_launcher.py:5: SettingWithCopyWarning: \n",
      "A value is trying to be set on a copy of a slice from a DataFrame\n",
      "\n",
      "See the caveats in the documentation: https://pandas.pydata.org/pandas-docs/stable/user_guide/indexing.html#returning-a-view-versus-a-copy\n",
      "  \"\"\"\n",
      "C:\\Users\\savro\\anaconda3\\lib\\site-packages\\ipykernel_launcher.py:3: SettingWithCopyWarning: \n",
      "A value is trying to be set on a copy of a slice from a DataFrame\n",
      "\n",
      "See the caveats in the documentation: https://pandas.pydata.org/pandas-docs/stable/user_guide/indexing.html#returning-a-view-versus-a-copy\n",
      "  This is separate from the ipykernel package so we can avoid doing imports until\n"
     ]
    }
   ],
   "source": [
    "for index, row in sorted_davidson.iterrows():\n",
    "    if index > 0:\n",
    "        sorted_davidson['cases_per_day'][index] = sorted_davidson['cases'][index] - sorted_davidson['cases'][index-1]\n",
    "    if sorted_davidson['cases_per_day'][index] < 0:\n",
    "        sorted_davidson['cases_per_day'][index] = 0"
   ]
  },
  {
   "cell_type": "markdown",
   "metadata": {},
   "source": [
    "# Adding column number of violations per day"
   ]
  },
  {
   "cell_type": "code",
   "execution_count": 10,
   "metadata": {},
   "outputs": [],
   "source": [
    "vio_per_day = hub_covid.groupby('month_day').count()\n",
    "vio_per_day = vio_per_day.reset_index()\n",
    "vio_per_day = vio_per_day[['month_day','Request #']]"
   ]
  },
  {
   "cell_type": "code",
   "execution_count": 11,
   "metadata": {},
   "outputs": [
    {
     "data": {
      "text/plain": [
       "[1,\n",
       " 1,\n",
       " 8,\n",
       " 206,\n",
       " 247,\n",
       " 267,\n",
       " 124,\n",
       " 113,\n",
       " 219,\n",
       " 147,\n",
       " 113,\n",
       " 72,\n",
       " 87,\n",
       " 79,\n",
       " 37,\n",
       " 62,\n",
       " 50,\n",
       " 63,\n",
       " 39,\n",
       " 58,\n",
       " 28,\n",
       " 25,\n",
       " 56,\n",
       " 37,\n",
       " 34,\n",
       " 28,\n",
       " 37,\n",
       " 20,\n",
       " 10,\n",
       " 39,\n",
       " 47,\n",
       " 45,\n",
       " 32,\n",
       " 52,\n",
       " 31,\n",
       " 17,\n",
       " 25,\n",
       " 49,\n",
       " 36,\n",
       " 30,\n",
       " 66,\n",
       " 24,\n",
       " 18,\n",
       " 85,\n",
       " 105,\n",
       " 68,\n",
       " 66,\n",
       " 76,\n",
       " 35,\n",
       " 21,\n",
       " 62,\n",
       " 77,\n",
       " 64,\n",
       " 67,\n",
       " 51,\n",
       " 23,\n",
       " 15,\n",
       " 17,\n",
       " 75,\n",
       " 59,\n",
       " 59,\n",
       " 39,\n",
       " 37,\n",
       " 20,\n",
       " 27,\n",
       " 29,\n",
       " 36,\n",
       " 20,\n",
       " 26,\n",
       " 14,\n",
       " 12,\n",
       " 39,\n",
       " 27,\n",
       " 26,\n",
       " 41,\n",
       " 43,\n",
       " 36,\n",
       " 63,\n",
       " 105,\n",
       " 65,\n",
       " 72,\n",
       " 83,\n",
       " 58,\n",
       " 41,\n",
       " 24,\n",
       " 92,\n",
       " 67,\n",
       " 59,\n",
       " 92,\n",
       " 94,\n",
       " 87,\n",
       " 62,\n",
       " 120,\n",
       " 106,\n",
       " 104,\n",
       " 132,\n",
       " 114,\n",
       " 77,\n",
       " 51,\n",
       " 125,\n",
       " 125,\n",
       " 106,\n",
       " 117,\n",
       " 104,\n",
       " 55,\n",
       " 58,\n",
       " 80,\n",
       " 130,\n",
       " 122,\n",
       " 111,\n",
       " 115,\n",
       " 83,\n",
       " 98,\n",
       " 113,\n",
       " 92,\n",
       " 75,\n",
       " 59,\n",
       " 71,\n",
       " 61,\n",
       " 45,\n",
       " 53,\n",
       " 65,\n",
       " 61,\n",
       " 64,\n",
       " 72,\n",
       " 78,\n",
       " 193,\n",
       " 171,\n",
       " 104,\n",
       " 78,\n",
       " 61,\n",
       " 75,\n",
       " 61,\n",
       " 30,\n",
       " 55,\n",
       " 52,\n",
       " 33,\n",
       " 70,\n",
       " 49,\n",
       " 25,\n",
       " 34,\n",
       " 50,\n",
       " 46,\n",
       " 49,\n",
       " 49,\n",
       " 34,\n",
       " 17,\n",
       " 22,\n",
       " 37,\n",
       " 29,\n",
       " 37,\n",
       " 27,\n",
       " 21,\n",
       " 20,\n",
       " 23,\n",
       " 31,\n",
       " 26,\n",
       " 20,\n",
       " 31,\n",
       " 27,\n",
       " 27,\n",
       " 25,\n",
       " 21,\n",
       " 25,\n",
       " 20,\n",
       " 27,\n",
       " 25,\n",
       " 25,\n",
       " 28,\n",
       " 25,\n",
       " 22,\n",
       " 20,\n",
       " 31,\n",
       " 27,\n",
       " 19,\n",
       " 25,\n",
       " 29,\n",
       " 19,\n",
       " 17,\n",
       " 18,\n",
       " 19,\n",
       " 17,\n",
       " 15,\n",
       " 29,\n",
       " 17,\n",
       " 11,\n",
       " 6,\n",
       " 15,\n",
       " 12,\n",
       " 12,\n",
       " 28,\n",
       " 26,\n",
       " 30,\n",
       " 20,\n",
       " 22,\n",
       " 28,\n",
       " 24,\n",
       " 44,\n",
       " 26,\n",
       " 34,\n",
       " 31,\n",
       " 54,\n",
       " 21,\n",
       " 25,\n",
       " 32,\n",
       " 33,\n",
       " 28,\n",
       " 43,\n",
       " 34,\n",
       " 29,\n",
       " 25,\n",
       " 34,\n",
       " 31,\n",
       " 30,\n",
       " 35,\n",
       " 31,\n",
       " 32,\n",
       " 26,\n",
       " 35,\n",
       " 24,\n",
       " 12,\n",
       " 4]"
      ]
     },
     "execution_count": 11,
     "metadata": {},
     "output_type": "execute_result"
    }
   ],
   "source": [
    "#making list of counts in order\n",
    "vio_counts = vio_per_day['Request #'].to_list()\n",
    "vio_counts"
   ]
  },
  {
   "cell_type": "markdown",
   "metadata": {},
   "source": [
    "# adding vio counts to davidson df"
   ]
  },
  {
   "cell_type": "code",
   "execution_count": 12,
   "metadata": {},
   "outputs": [],
   "source": [
    "zeros = [0,0,0,0,0,0,0,0,0,0,0,0,0]\n",
    "vio_counts = zeros + vio_counts"
   ]
  },
  {
   "cell_type": "code",
   "execution_count": 13,
   "metadata": {},
   "outputs": [],
   "source": [
    "sorted_davidson['vio_counts_per_day'] = vio_counts"
   ]
  },
  {
   "cell_type": "markdown",
   "metadata": {},
   "source": [
    "# Creating Line Plots"
   ]
  },
  {
   "cell_type": "code",
   "execution_count": 14,
   "metadata": {},
   "outputs": [
    {
     "data": {
      "text/plain": [
       "<matplotlib.axes._subplots.AxesSubplot at 0x1e89bfc02c8>"
      ]
     },
     "execution_count": 14,
     "metadata": {},
     "output_type": "execute_result"
    },
    {
     "data": {
      "image/png": "[encoded data removed]",
      "text/plain": [
       "<Figure size 720x360 with 1 Axes>"
      ]
     },
     "metadata": {
      "needs_background": "light"
     },
     "output_type": "display_data"
    }
   ],
   "source": [
    "sorted_davidson.plot.area(x = 'month_day', y = 'vio_counts_per_day', figsize = (10,5), color = 'blue', title = 'test')"
   ]
  },
  {
   "cell_type": "markdown",
   "metadata": {},
   "source": [
    "need to make line plot for cases for davison not dates"
   ]
  },
  {
   "cell_type": "code",
   "execution_count": 15,
   "metadata": {},
   "outputs": [
    {
     "data": {
      "text/plain": [
       "<matplotlib.axes._subplots.AxesSubplot at 0x1e89c8ed908>"
      ]
     },
     "execution_count": 15,
     "metadata": {},
     "output_type": "execute_result"
    },
    {
     "data": {
      "image/png": "[encoded data removed]",
      "text/plain": [
       "<Figure size 720x360 with 1 Axes>"
      ]
     },
     "metadata": {
      "needs_background": "light"
     },
     "output_type": "display_data"
    }
   ],
   "source": [
    "sorted_davidson.plot.area(x = 'month_day', y = 'cases', figsize = (10,5), color = 'tomato', title = 'Covid Cases Nashville: CUMMULATIVE')"
   ]
  },
  {
   "cell_type": "code",
   "execution_count": 16,
   "metadata": {},
   "outputs": [
    {
     "data": {
      "text/plain": [
       "<matplotlib.axes._subplots.AxesSubplot at 0x1e89c98cfc8>"
      ]
     },
     "execution_count": 16,
     "metadata": {},
     "output_type": "execute_result"
    },
    {
     "data": {
      "image/png": "[encoded data removed]",
      "text/plain": [
       "<Figure size 720x360 with 1 Axes>"
      ]
     },
     "metadata": {
      "needs_background": "light"
     },
     "output_type": "display_data"
    }
   ],
   "source": [
    "sorted_davidson.plot.area(x = 'month_day', y = 'cases_per_day', figsize = (10,5), color = 'royalblue', title = 'New Covid Cases Nashville Per Day')"
   ]
  },
  {
   "cell_type": "code",
   "execution_count": 17,
   "metadata": {},
   "outputs": [
    {
     "data": {
      "text/plain": [
       "<matplotlib.axes._subplots.AxesSubplot at 0x1e89ca08388>"
      ]
     },
     "execution_count": 17,
     "metadata": {},
     "output_type": "execute_result"
    },
    {
     "data": {
      "image/png": "[encoded data removed]",
      "text/plain": [
       "<Figure size 720x360 with 1 Axes>"
      ]
     },
     "metadata": {
      "needs_background": "light"
     },
     "output_type": "display_data"
    }
   ],
   "source": [
    "sorted_davidson.plot.area(x = 'month_day', y = 'deaths_per_day', figsize = (10,5), color = 'darkgray', title = 'New Covid Deaths Nashville Per Day')"
   ]
  },
  {
   "cell_type": "markdown",
   "metadata": {},
   "source": [
    "# overlaying two line plots"
   ]
  },
  {
   "cell_type": "code",
   "execution_count": 18,
   "metadata": {},
   "outputs": [
    {
     "data": {
      "image/png": "[encoded data removed]",
      "text/plain": [
       "<Figure size 720x360 with 1 Axes>"
      ]
     },
     "metadata": {
      "needs_background": "light"
     },
     "output_type": "display_data"
    },
    {
     "data": {
      "image/png": "[encoded data removed]",
      "text/plain": [
       "<Figure size 720x360 with 1 Axes>"
      ]
     },
     "metadata": {
      "needs_background": "light"
     },
     "output_type": "display_data"
    }
   ],
   "source": [
    "hub_covid.groupby('month_day')['Request #'].count().plot.area(figsize = (10,5), color = 'darkturquoise')\n",
    "sorted_davidson.plot.area(x = 'month_day', y = 'cases_per_day', figsize = (10,5), color = 'tomato')\n",
    "plt.show()"
   ]
  },
  {
   "cell_type": "markdown",
   "metadata": {},
   "source": [
    "# Getting totals per week and create a week_df"
   ]
  },
  {
   "cell_type": "code",
   "execution_count": 19,
   "metadata": {},
   "outputs": [],
   "source": [
    "d = {'weeks':[0,1,2,3,4,5,6,7,8,9,10,11,12,13,14,15,16,17,18,19,20,21,22,23,24,25,26,27,28,29,30,31,32,33], 'new_deaths_av':[0,0,0,0,0,0,0,0,0,0,0,0,0,0,0,0,0,0,0,0,0,0,0,0,0,0,0,0,0,0,0,0,0,0]}"
   ]
  },
  {
   "cell_type": "code",
   "execution_count": 20,
   "metadata": {},
   "outputs": [],
   "source": [
    "weeks_df = pd.DataFrame(data = d)"
   ]
  },
  {
   "cell_type": "code",
   "execution_count": 21,
   "metadata": {},
   "outputs": [],
   "source": [
    "weeks_df['new_cases_av'] = 0\n",
    "weeks_df['vio_report_av'] = 0"
   ]
  },
  {
   "cell_type": "code",
   "execution_count": 22,
   "metadata": {},
   "outputs": [
    {
     "data": {
      "text/html": [
       "<div>\n",
       "<style scoped>\n",
       "    .dataframe tbody tr th:only-of-type {\n",
       "        vertical-align: middle;\n",
       "    }\n",
       "\n",
       "    .dataframe tbody tr th {\n",
       "        vertical-align: top;\n",
       "    }\n",
       "\n",
       "    .dataframe thead th {\n",
       "        text-align: right;\n",
       "    }\n",
       "</style>\n",
       "<table border=\"1\" class=\"dataframe\">\n",
       "  <thead>\n",
       "    <tr style=\"text-align: right;\">\n",
       "      <th></th>\n",
       "      <th>date</th>\n",
       "      <th>county</th>\n",
       "      <th>state</th>\n",
       "      <th>fips</th>\n",
       "      <th>cases</th>\n",
       "      <th>deaths</th>\n",
       "      <th>month_day</th>\n",
       "      <th>deaths_per_day</th>\n",
       "      <th>cases_per_day</th>\n",
       "      <th>vio_counts_per_day</th>\n",
       "    </tr>\n",
       "  </thead>\n",
       "  <tbody>\n",
       "    <tr>\n",
       "      <th>230</th>\n",
       "      <td>2020-10-24</td>\n",
       "      <td>Davidson</td>\n",
       "      <td>Tennessee</td>\n",
       "      <td>47037</td>\n",
       "      <td>33016</td>\n",
       "      <td>336</td>\n",
       "      <td>10/24</td>\n",
       "      <td>3</td>\n",
       "      <td>294</td>\n",
       "      <td>26</td>\n",
       "    </tr>\n",
       "    <tr>\n",
       "      <th>231</th>\n",
       "      <td>2020-10-25</td>\n",
       "      <td>Davidson</td>\n",
       "      <td>Tennessee</td>\n",
       "      <td>47037</td>\n",
       "      <td>33259</td>\n",
       "      <td>337</td>\n",
       "      <td>10/25</td>\n",
       "      <td>1</td>\n",
       "      <td>243</td>\n",
       "      <td>35</td>\n",
       "    </tr>\n",
       "    <tr>\n",
       "      <th>232</th>\n",
       "      <td>2020-10-26</td>\n",
       "      <td>Davidson</td>\n",
       "      <td>Tennessee</td>\n",
       "      <td>47037</td>\n",
       "      <td>33699</td>\n",
       "      <td>343</td>\n",
       "      <td>10/26</td>\n",
       "      <td>6</td>\n",
       "      <td>440</td>\n",
       "      <td>24</td>\n",
       "    </tr>\n",
       "    <tr>\n",
       "      <th>233</th>\n",
       "      <td>2020-10-27</td>\n",
       "      <td>Davidson</td>\n",
       "      <td>Tennessee</td>\n",
       "      <td>47037</td>\n",
       "      <td>33957</td>\n",
       "      <td>341</td>\n",
       "      <td>10/27</td>\n",
       "      <td>0</td>\n",
       "      <td>258</td>\n",
       "      <td>12</td>\n",
       "    </tr>\n",
       "    <tr>\n",
       "      <th>234</th>\n",
       "      <td>2020-10-28</td>\n",
       "      <td>Davidson</td>\n",
       "      <td>Tennessee</td>\n",
       "      <td>47037</td>\n",
       "      <td>34156</td>\n",
       "      <td>346</td>\n",
       "      <td>10/28</td>\n",
       "      <td>5</td>\n",
       "      <td>199</td>\n",
       "      <td>4</td>\n",
       "    </tr>\n",
       "  </tbody>\n",
       "</table>\n",
       "</div>"
      ],
      "text/plain": [
       "          date    county      state   fips  cases  deaths month_day  \\\n",
       "230 2020-10-24  Davidson  Tennessee  47037  33016     336     10/24   \n",
       "231 2020-10-25  Davidson  Tennessee  47037  33259     337     10/25   \n",
       "232 2020-10-26  Davidson  Tennessee  47037  33699     343     10/26   \n",
       "233 2020-10-27  Davidson  Tennessee  47037  33957     341     10/27   \n",
       "234 2020-10-28  Davidson  Tennessee  47037  34156     346     10/28   \n",
       "\n",
       "     deaths_per_day  cases_per_day  vio_counts_per_day  \n",
       "230               3            294                  26  \n",
       "231               1            243                  35  \n",
       "232               6            440                  24  \n",
       "233               0            258                  12  \n",
       "234               5            199                   4  "
      ]
     },
     "execution_count": 22,
     "metadata": {},
     "output_type": "execute_result"
    }
   ],
   "source": [
    "sorted_davidson.tail()"
   ]
  },
  {
   "cell_type": "code",
   "execution_count": 23,
   "metadata": {},
   "outputs": [],
   "source": [
    "for index1, row1 in sorted_davidson.iterrows():\n",
    "    if (index1 % 7 == 0) & (index1 < 231):\n",
    "        week = index1 / 7\n",
    "        summ = sorted_davidson['deaths_per_day'][index1] + sorted_davidson['deaths_per_day'][index1+1] + sorted_davidson['deaths_per_day'][index1+2]+ sorted_davidson['deaths_per_day'][index1 + 3] + sorted_davidson['deaths_per_day'][index1 + 4] + sorted_davidson['deaths_per_day'][index1 + 5] + sorted_davidson['deaths_per_day'][index1 + 6] + sorted_davidson['deaths_per_day'][index1 + 7]\n",
    "        av = summ / 7\n",
    "        weeks_df['new_deaths_av'][week] = av"
   ]
  },
  {
   "cell_type": "code",
   "execution_count": 24,
   "metadata": {},
   "outputs": [],
   "source": [
    "for index2, row2 in sorted_davidson.iterrows():\n",
    "    if (index2 % 7 == 0) & (index2 < 231):\n",
    "        week = index2 / 7\n",
    "        summ = sorted_davidson['vio_counts_per_day'][index2] + sorted_davidson['vio_counts_per_day'][index2+1] + sorted_davidson['vio_counts_per_day'][index2+2]+ sorted_davidson['vio_counts_per_day'][index2 + 3] + sorted_davidson['vio_counts_per_day'][index2 + 4] + sorted_davidson['vio_counts_per_day'][index2 + 5] + sorted_davidson['vio_counts_per_day'][index2 + 6] + sorted_davidson['vio_counts_per_day'][index2 + 7]\n",
    "        av = summ / 7\n",
    "        weeks_df['vio_report_av'][week] = av"
   ]
  },
  {
   "cell_type": "code",
   "execution_count": 25,
   "metadata": {},
   "outputs": [],
   "source": [
    "for index3, row3 in sorted_davidson.iterrows():\n",
    "    if (index3 % 7 == 0) & (index3 < 231):\n",
    "        week = index3 / 7\n",
    "        summ = sorted_davidson['cases_per_day'][index3] + sorted_davidson['cases_per_day'][index3+1] + sorted_davidson['cases_per_day'][index3+2]+ sorted_davidson['cases_per_day'][index3 + 3] + sorted_davidson['cases_per_day'][index3 + 4] + sorted_davidson['cases_per_day'][index3 + 5] + sorted_davidson['cases_per_day'][index3 + 6] + sorted_davidson['cases_per_day'][index3 + 7]\n",
    "        av = summ / 7\n",
    "        weeks_df['new_cases_av'][week] = av"
   ]
  },
  {
   "cell_type": "code",
   "execution_count": 26,
   "metadata": {},
   "outputs": [],
   "source": [
    "label = ['3/8','3/15','3/22','3/29','4/5','4/12','4/19','4/26','5/3','5/10','5/17','5/24','5/31','6/7','6/14','6/21','6/28','7/5','7/12','7/19','7/26','8/2','8/9','8/16','8/23','8/30','9/6','9/13','9/20','9/27','10/4','10/11','10/18','10/25']\n",
    "weeks_df['labels'] = label"
   ]
  },
  {
   "cell_type": "code",
   "execution_count": 27,
   "metadata": {},
   "outputs": [
    {
     "data": {
      "text/html": [
       "<div>\n",
       "<style scoped>\n",
       "    .dataframe tbody tr th:only-of-type {\n",
       "        vertical-align: middle;\n",
       "    }\n",
       "\n",
       "    .dataframe tbody tr th {\n",
       "        vertical-align: top;\n",
       "    }\n",
       "\n",
       "    .dataframe thead th {\n",
       "        text-align: right;\n",
       "    }\n",
       "</style>\n",
       "<table border=\"1\" class=\"dataframe\">\n",
       "  <thead>\n",
       "    <tr style=\"text-align: right;\">\n",
       "      <th></th>\n",
       "      <th>weeks</th>\n",
       "      <th>new_deaths_av</th>\n",
       "      <th>new_cases_av</th>\n",
       "      <th>vio_report_av</th>\n",
       "      <th>labels</th>\n",
       "    </tr>\n",
       "  </thead>\n",
       "  <tbody>\n",
       "    <tr>\n",
       "      <th>0</th>\n",
       "      <td>0</td>\n",
       "      <td>0</td>\n",
       "      <td>2</td>\n",
       "      <td>0</td>\n",
       "      <td>3/8</td>\n",
       "    </tr>\n",
       "    <tr>\n",
       "      <th>1</th>\n",
       "      <td>1</td>\n",
       "      <td>0</td>\n",
       "      <td>21</td>\n",
       "      <td>0</td>\n",
       "      <td>3/15</td>\n",
       "    </tr>\n",
       "    <tr>\n",
       "      <th>2</th>\n",
       "      <td>2</td>\n",
       "      <td>0</td>\n",
       "      <td>36</td>\n",
       "      <td>169</td>\n",
       "      <td>3/22</td>\n",
       "    </tr>\n",
       "    <tr>\n",
       "      <th>3</th>\n",
       "      <td>3</td>\n",
       "      <td>0</td>\n",
       "      <td>78</td>\n",
       "      <td>116</td>\n",
       "      <td>3/29</td>\n",
       "    </tr>\n",
       "    <tr>\n",
       "      <th>4</th>\n",
       "      <td>4</td>\n",
       "      <td>2</td>\n",
       "      <td>237</td>\n",
       "      <td>53</td>\n",
       "      <td>4/5</td>\n",
       "    </tr>\n",
       "  </tbody>\n",
       "</table>\n",
       "</div>"
      ],
      "text/plain": [
       "   weeks  new_deaths_av  new_cases_av  vio_report_av labels\n",
       "0      0              0             2              0    3/8\n",
       "1      1              0            21              0   3/15\n",
       "2      2              0            36            169   3/22\n",
       "3      3              0            78            116   3/29\n",
       "4      4              2           237             53    4/5"
      ]
     },
     "execution_count": 27,
     "metadata": {},
     "output_type": "execute_result"
    }
   ],
   "source": [
    "weeks_df.head()"
   ]
  },
  {
   "cell_type": "code",
   "execution_count": 28,
   "metadata": {},
   "outputs": [
    {
     "data": {
      "text/plain": [
       "weeks             int64\n",
       "new_deaths_av     int64\n",
       "new_cases_av      int64\n",
       "vio_report_av     int64\n",
       "labels           object\n",
       "dtype: object"
      ]
     },
     "execution_count": 28,
     "metadata": {},
     "output_type": "execute_result"
    }
   ],
   "source": [
    "weeks_df.dtypes"
   ]
  },
  {
   "cell_type": "markdown",
   "metadata": {},
   "source": [
    "# Adding columns for Rolling Averages"
   ]
  },
  {
   "cell_type": "code",
   "execution_count": 29,
   "metadata": {},
   "outputs": [],
   "source": [
    "weeks_df['death_rolling'] = 0\n",
    "weeks_df['cases_rolling'] = 0\n",
    "weeks_df['vio_rolling'] = 0"
   ]
  },
  {
   "cell_type": "code",
   "execution_count": 30,
   "metadata": {},
   "outputs": [
    {
     "name": "stderr",
     "output_type": "stream",
     "text": [
      "C:\\Users\\savro\\anaconda3\\lib\\site-packages\\ipykernel_launcher.py:5: SettingWithCopyWarning: \n",
      "A value is trying to be set on a copy of a slice from a DataFrame\n",
      "\n",
      "See the caveats in the documentation: https://pandas.pydata.org/pandas-docs/stable/user_guide/indexing.html#returning-a-view-versus-a-copy\n",
      "  \"\"\"\n",
      "C:\\Users\\savro\\anaconda3\\lib\\site-packages\\ipykernel_launcher.py:8: SettingWithCopyWarning: \n",
      "A value is trying to be set on a copy of a slice from a DataFrame\n",
      "\n",
      "See the caveats in the documentation: https://pandas.pydata.org/pandas-docs/stable/user_guide/indexing.html#returning-a-view-versus-a-copy\n",
      "  \n",
      "C:\\Users\\savro\\anaconda3\\lib\\site-packages\\ipykernel_launcher.py:11: SettingWithCopyWarning: \n",
      "A value is trying to be set on a copy of a slice from a DataFrame\n",
      "\n",
      "See the caveats in the documentation: https://pandas.pydata.org/pandas-docs/stable/user_guide/indexing.html#returning-a-view-versus-a-copy\n",
      "  # This is added back by InteractiveShellApp.init_path()\n"
     ]
    }
   ],
   "source": [
    "#This rolling average calculates the rolling average of the current week and previous 3 averaged together\n",
    "for index4, row4 in weeks_df.iterrows():\n",
    "    if index4 > 3:\n",
    "        totals = (weeks_df['new_deaths_av'][index4] + weeks_df['new_deaths_av'][index4-1] + weeks_df['new_deaths_av'][index4-2] + weeks_df['new_deaths_av'][index4-3])/4\n",
    "        weeks_df['death_rolling'][index4] = totals\n",
    "        \n",
    "        totals1 = (weeks_df['new_cases_av'][index4] + weeks_df['new_cases_av'][index4-1] + weeks_df['new_cases_av'][index4-2] + weeks_df['new_cases_av'][index4-3])/4\n",
    "        weeks_df['cases_rolling'][index4] = totals1\n",
    "        \n",
    "        totals2 = (weeks_df['vio_report_av'][index4] + weeks_df['vio_report_av'][index4-1] + weeks_df['vio_report_av'][index4-2] + weeks_df['vio_report_av'][index4-3])/4\n",
    "        weeks_df['vio_rolling'][index4] = totals2"
   ]
  },
  {
   "cell_type": "code",
   "execution_count": 31,
   "metadata": {},
   "outputs": [
    {
     "data": {
      "text/html": [
       "<div>\n",
       "<style scoped>\n",
       "    .dataframe tbody tr th:only-of-type {\n",
       "        vertical-align: middle;\n",
       "    }\n",
       "\n",
       "    .dataframe tbody tr th {\n",
       "        vertical-align: top;\n",
       "    }\n",
       "\n",
       "    .dataframe thead th {\n",
       "        text-align: right;\n",
       "    }\n",
       "</style>\n",
       "<table border=\"1\" class=\"dataframe\">\n",
       "  <thead>\n",
       "    <tr style=\"text-align: right;\">\n",
       "      <th></th>\n",
       "      <th>weeks</th>\n",
       "      <th>new_deaths_av</th>\n",
       "      <th>new_cases_av</th>\n",
       "      <th>vio_report_av</th>\n",
       "      <th>labels</th>\n",
       "      <th>death_rolling</th>\n",
       "      <th>cases_rolling</th>\n",
       "      <th>vio_rolling</th>\n",
       "    </tr>\n",
       "  </thead>\n",
       "  <tbody>\n",
       "    <tr>\n",
       "      <th>0</th>\n",
       "      <td>0</td>\n",
       "      <td>0</td>\n",
       "      <td>2</td>\n",
       "      <td>0</td>\n",
       "      <td>3/8</td>\n",
       "      <td>0</td>\n",
       "      <td>0</td>\n",
       "      <td>0</td>\n",
       "    </tr>\n",
       "    <tr>\n",
       "      <th>1</th>\n",
       "      <td>1</td>\n",
       "      <td>0</td>\n",
       "      <td>21</td>\n",
       "      <td>0</td>\n",
       "      <td>3/15</td>\n",
       "      <td>0</td>\n",
       "      <td>0</td>\n",
       "      <td>0</td>\n",
       "    </tr>\n",
       "    <tr>\n",
       "      <th>2</th>\n",
       "      <td>2</td>\n",
       "      <td>0</td>\n",
       "      <td>36</td>\n",
       "      <td>169</td>\n",
       "      <td>3/22</td>\n",
       "      <td>0</td>\n",
       "      <td>0</td>\n",
       "      <td>0</td>\n",
       "    </tr>\n",
       "    <tr>\n",
       "      <th>3</th>\n",
       "      <td>3</td>\n",
       "      <td>0</td>\n",
       "      <td>78</td>\n",
       "      <td>116</td>\n",
       "      <td>3/29</td>\n",
       "      <td>0</td>\n",
       "      <td>0</td>\n",
       "      <td>0</td>\n",
       "    </tr>\n",
       "    <tr>\n",
       "      <th>4</th>\n",
       "      <td>4</td>\n",
       "      <td>2</td>\n",
       "      <td>237</td>\n",
       "      <td>53</td>\n",
       "      <td>4/5</td>\n",
       "      <td>0</td>\n",
       "      <td>93</td>\n",
       "      <td>84</td>\n",
       "    </tr>\n",
       "    <tr>\n",
       "      <th>5</th>\n",
       "      <td>5</td>\n",
       "      <td>1</td>\n",
       "      <td>65</td>\n",
       "      <td>35</td>\n",
       "      <td>4/12</td>\n",
       "      <td>0</td>\n",
       "      <td>104</td>\n",
       "      <td>93</td>\n",
       "    </tr>\n",
       "    <tr>\n",
       "      <th>6</th>\n",
       "      <td>6</td>\n",
       "      <td>0</td>\n",
       "      <td>88</td>\n",
       "      <td>39</td>\n",
       "      <td>4/19</td>\n",
       "      <td>0</td>\n",
       "      <td>117</td>\n",
       "      <td>60</td>\n",
       "    </tr>\n",
       "    <tr>\n",
       "      <th>7</th>\n",
       "      <td>7</td>\n",
       "      <td>1</td>\n",
       "      <td>145</td>\n",
       "      <td>54</td>\n",
       "      <td>4/26</td>\n",
       "      <td>1</td>\n",
       "      <td>133</td>\n",
       "      <td>45</td>\n",
       "    </tr>\n",
       "    <tr>\n",
       "      <th>8</th>\n",
       "      <td>8</td>\n",
       "      <td>7</td>\n",
       "      <td>483</td>\n",
       "      <td>72</td>\n",
       "      <td>5/3</td>\n",
       "      <td>2</td>\n",
       "      <td>195</td>\n",
       "      <td>50</td>\n",
       "    </tr>\n",
       "    <tr>\n",
       "      <th>9</th>\n",
       "      <td>9</td>\n",
       "      <td>12</td>\n",
       "      <td>810</td>\n",
       "      <td>34</td>\n",
       "      <td>5/10</td>\n",
       "      <td>5</td>\n",
       "      <td>381</td>\n",
       "      <td>49</td>\n",
       "    </tr>\n",
       "    <tr>\n",
       "      <th>10</th>\n",
       "      <td>10</td>\n",
       "      <td>1</td>\n",
       "      <td>124</td>\n",
       "      <td>54</td>\n",
       "      <td>5/17</td>\n",
       "      <td>5</td>\n",
       "      <td>390</td>\n",
       "      <td>53</td>\n",
       "    </tr>\n",
       "    <tr>\n",
       "      <th>11</th>\n",
       "      <td>11</td>\n",
       "      <td>1</td>\n",
       "      <td>78</td>\n",
       "      <td>66</td>\n",
       "      <td>5/24</td>\n",
       "      <td>5</td>\n",
       "      <td>373</td>\n",
       "      <td>56</td>\n",
       "    </tr>\n",
       "    <tr>\n",
       "      <th>12</th>\n",
       "      <td>12</td>\n",
       "      <td>1</td>\n",
       "      <td>96</td>\n",
       "      <td>45</td>\n",
       "      <td>5/31</td>\n",
       "      <td>3</td>\n",
       "      <td>277</td>\n",
       "      <td>49</td>\n",
       "    </tr>\n",
       "    <tr>\n",
       "      <th>13</th>\n",
       "      <td>13</td>\n",
       "      <td>4</td>\n",
       "      <td>327</td>\n",
       "      <td>53</td>\n",
       "      <td>6/7</td>\n",
       "      <td>1</td>\n",
       "      <td>156</td>\n",
       "      <td>54</td>\n",
       "    </tr>\n",
       "    <tr>\n",
       "      <th>14</th>\n",
       "      <td>14</td>\n",
       "      <td>1</td>\n",
       "      <td>176</td>\n",
       "      <td>96</td>\n",
       "      <td>6/14</td>\n",
       "      <td>1</td>\n",
       "      <td>169</td>\n",
       "      <td>65</td>\n",
       "    </tr>\n",
       "    <tr>\n",
       "      <th>15</th>\n",
       "      <td>15</td>\n",
       "      <td>12</td>\n",
       "      <td>1495</td>\n",
       "      <td>108</td>\n",
       "      <td>6/21</td>\n",
       "      <td>4</td>\n",
       "      <td>523</td>\n",
       "      <td>75</td>\n",
       "    </tr>\n",
       "    <tr>\n",
       "      <th>16</th>\n",
       "      <td>16</td>\n",
       "      <td>1</td>\n",
       "      <td>366</td>\n",
       "      <td>105</td>\n",
       "      <td>6/28</td>\n",
       "      <td>4</td>\n",
       "      <td>591</td>\n",
       "      <td>90</td>\n",
       "    </tr>\n",
       "    <tr>\n",
       "      <th>17</th>\n",
       "      <td>17</td>\n",
       "      <td>3</td>\n",
       "      <td>457</td>\n",
       "      <td>113</td>\n",
       "      <td>7/5</td>\n",
       "      <td>4</td>\n",
       "      <td>623</td>\n",
       "      <td>105</td>\n",
       "    </tr>\n",
       "    <tr>\n",
       "      <th>18</th>\n",
       "      <td>18</td>\n",
       "      <td>3</td>\n",
       "      <td>452</td>\n",
       "      <td>87</td>\n",
       "      <td>7/12</td>\n",
       "      <td>4</td>\n",
       "      <td>692</td>\n",
       "      <td>103</td>\n",
       "    </tr>\n",
       "    <tr>\n",
       "      <th>19</th>\n",
       "      <td>19</td>\n",
       "      <td>3</td>\n",
       "      <td>458</td>\n",
       "      <td>107</td>\n",
       "      <td>7/19</td>\n",
       "      <td>2</td>\n",
       "      <td>433</td>\n",
       "      <td>103</td>\n",
       "    </tr>\n",
       "    <tr>\n",
       "      <th>20</th>\n",
       "      <td>20</td>\n",
       "      <td>9</td>\n",
       "      <td>905</td>\n",
       "      <td>85</td>\n",
       "      <td>7/26</td>\n",
       "      <td>4</td>\n",
       "      <td>568</td>\n",
       "      <td>98</td>\n",
       "    </tr>\n",
       "    <tr>\n",
       "      <th>21</th>\n",
       "      <td>21</td>\n",
       "      <td>3</td>\n",
       "      <td>158</td>\n",
       "      <td>30</td>\n",
       "      <td>8/2</td>\n",
       "      <td>4</td>\n",
       "      <td>493</td>\n",
       "      <td>77</td>\n",
       "    </tr>\n",
       "    <tr>\n",
       "      <th>22</th>\n",
       "      <td>22</td>\n",
       "      <td>1</td>\n",
       "      <td>113</td>\n",
       "      <td>34</td>\n",
       "      <td>8/9</td>\n",
       "      <td>4</td>\n",
       "      <td>408</td>\n",
       "      <td>64</td>\n",
       "    </tr>\n",
       "    <tr>\n",
       "      <th>23</th>\n",
       "      <td>23</td>\n",
       "      <td>2</td>\n",
       "      <td>213</td>\n",
       "      <td>52</td>\n",
       "      <td>8/16</td>\n",
       "      <td>3</td>\n",
       "      <td>347</td>\n",
       "      <td>50</td>\n",
       "    </tr>\n",
       "    <tr>\n",
       "      <th>24</th>\n",
       "      <td>24</td>\n",
       "      <td>6</td>\n",
       "      <td>461</td>\n",
       "      <td>41</td>\n",
       "      <td>8/23</td>\n",
       "      <td>3</td>\n",
       "      <td>236</td>\n",
       "      <td>39</td>\n",
       "    </tr>\n",
       "    <tr>\n",
       "      <th>25</th>\n",
       "      <td>25</td>\n",
       "      <td>1</td>\n",
       "      <td>81</td>\n",
       "      <td>28</td>\n",
       "      <td>8/30</td>\n",
       "      <td>2</td>\n",
       "      <td>217</td>\n",
       "      <td>38</td>\n",
       "    </tr>\n",
       "    <tr>\n",
       "      <th>26</th>\n",
       "      <td>26</td>\n",
       "      <td>8</td>\n",
       "      <td>520</td>\n",
       "      <td>28</td>\n",
       "      <td>9/6</td>\n",
       "      <td>4</td>\n",
       "      <td>318</td>\n",
       "      <td>37</td>\n",
       "    </tr>\n",
       "    <tr>\n",
       "      <th>27</th>\n",
       "      <td>27</td>\n",
       "      <td>2</td>\n",
       "      <td>131</td>\n",
       "      <td>22</td>\n",
       "      <td>9/13</td>\n",
       "      <td>4</td>\n",
       "      <td>298</td>\n",
       "      <td>29</td>\n",
       "    </tr>\n",
       "    <tr>\n",
       "      <th>28</th>\n",
       "      <td>28</td>\n",
       "      <td>2</td>\n",
       "      <td>112</td>\n",
       "      <td>16</td>\n",
       "      <td>9/20</td>\n",
       "      <td>3</td>\n",
       "      <td>211</td>\n",
       "      <td>23</td>\n",
       "    </tr>\n",
       "    <tr>\n",
       "      <th>29</th>\n",
       "      <td>29</td>\n",
       "      <td>1</td>\n",
       "      <td>106</td>\n",
       "      <td>27</td>\n",
       "      <td>9/27</td>\n",
       "      <td>3</td>\n",
       "      <td>217</td>\n",
       "      <td>23</td>\n",
       "    </tr>\n",
       "    <tr>\n",
       "      <th>30</th>\n",
       "      <td>30</td>\n",
       "      <td>1</td>\n",
       "      <td>175</td>\n",
       "      <td>37</td>\n",
       "      <td>10/4</td>\n",
       "      <td>1</td>\n",
       "      <td>131</td>\n",
       "      <td>25</td>\n",
       "    </tr>\n",
       "    <tr>\n",
       "      <th>31</th>\n",
       "      <td>31</td>\n",
       "      <td>0</td>\n",
       "      <td>183</td>\n",
       "      <td>36</td>\n",
       "      <td>10/11</td>\n",
       "      <td>1</td>\n",
       "      <td>144</td>\n",
       "      <td>29</td>\n",
       "    </tr>\n",
       "    <tr>\n",
       "      <th>32</th>\n",
       "      <td>32</td>\n",
       "      <td>1</td>\n",
       "      <td>294</td>\n",
       "      <td>36</td>\n",
       "      <td>10/18</td>\n",
       "      <td>0</td>\n",
       "      <td>189</td>\n",
       "      <td>34</td>\n",
       "    </tr>\n",
       "    <tr>\n",
       "      <th>33</th>\n",
       "      <td>33</td>\n",
       "      <td>0</td>\n",
       "      <td>0</td>\n",
       "      <td>0</td>\n",
       "      <td>10/25</td>\n",
       "      <td>0</td>\n",
       "      <td>163</td>\n",
       "      <td>27</td>\n",
       "    </tr>\n",
       "  </tbody>\n",
       "</table>\n",
       "</div>"
      ],
      "text/plain": [
       "    weeks  new_deaths_av  new_cases_av  vio_report_av labels  death_rolling  \\\n",
       "0       0              0             2              0    3/8              0   \n",
       "1       1              0            21              0   3/15              0   \n",
       "2       2              0            36            169   3/22              0   \n",
       "3       3              0            78            116   3/29              0   \n",
       "4       4              2           237             53    4/5              0   \n",
       "5       5              1            65             35   4/12              0   \n",
       "6       6              0            88             39   4/19              0   \n",
       "7       7              1           145             54   4/26              1   \n",
       "8       8              7           483             72    5/3              2   \n",
       "9       9             12           810             34   5/10              5   \n",
       "10     10              1           124             54   5/17              5   \n",
       "11     11              1            78             66   5/24              5   \n",
       "12     12              1            96             45   5/31              3   \n",
       "13     13              4           327             53    6/7              1   \n",
       "14     14              1           176             96   6/14              1   \n",
       "15     15             12          1495            108   6/21              4   \n",
       "16     16              1           366            105   6/28              4   \n",
       "17     17              3           457            113    7/5              4   \n",
       "18     18              3           452             87   7/12              4   \n",
       "19     19              3           458            107   7/19              2   \n",
       "20     20              9           905             85   7/26              4   \n",
       "21     21              3           158             30    8/2              4   \n",
       "22     22              1           113             34    8/9              4   \n",
       "23     23              2           213             52   8/16              3   \n",
       "24     24              6           461             41   8/23              3   \n",
       "25     25              1            81             28   8/30              2   \n",
       "26     26              8           520             28    9/6              4   \n",
       "27     27              2           131             22   9/13              4   \n",
       "28     28              2           112             16   9/20              3   \n",
       "29     29              1           106             27   9/27              3   \n",
       "30     30              1           175             37   10/4              1   \n",
       "31     31              0           183             36  10/11              1   \n",
       "32     32              1           294             36  10/18              0   \n",
       "33     33              0             0              0  10/25              0   \n",
       "\n",
       "    cases_rolling  vio_rolling  \n",
       "0               0            0  \n",
       "1               0            0  \n",
       "2               0            0  \n",
       "3               0            0  \n",
       "4              93           84  \n",
       "5             104           93  \n",
       "6             117           60  \n",
       "7             133           45  \n",
       "8             195           50  \n",
       "9             381           49  \n",
       "10            390           53  \n",
       "11            373           56  \n",
       "12            277           49  \n",
       "13            156           54  \n",
       "14            169           65  \n",
       "15            523           75  \n",
       "16            591           90  \n",
       "17            623          105  \n",
       "18            692          103  \n",
       "19            433          103  \n",
       "20            568           98  \n",
       "21            493           77  \n",
       "22            408           64  \n",
       "23            347           50  \n",
       "24            236           39  \n",
       "25            217           38  \n",
       "26            318           37  \n",
       "27            298           29  \n",
       "28            211           23  \n",
       "29            217           23  \n",
       "30            131           25  \n",
       "31            144           29  \n",
       "32            189           34  \n",
       "33            163           27  "
      ]
     },
     "execution_count": 31,
     "metadata": {},
     "output_type": "execute_result"
    }
   ],
   "source": [
    "weeks_df"
   ]
  },
  {
   "cell_type": "markdown",
   "metadata": {},
   "source": [
    "# Rolling Average Graphs"
   ]
  },
  {
   "cell_type": "code",
   "execution_count": 34,
   "metadata": {},
   "outputs": [
    {
     "data": {
      "image/png": "[encoded data removed]",
      "text/plain": [
       "<Figure size 720x360 with 1 Axes>"
      ]
     },
     "metadata": {
      "needs_background": "light"
     },
     "output_type": "display_data"
    },
    {
     "data": {
      "image/png": "[encoded data removed]",
      "text/plain": [
       "<Figure size 720x360 with 1 Axes>"
      ]
     },
     "metadata": {
      "needs_background": "light"
     },
     "output_type": "display_data"
    },
    {
     "data": {
      "image/png": "[encoded data removed]",
      "text/plain": [
       "<Figure size 720x360 with 1 Axes>"
      ]
     },
     "metadata": {
      "needs_background": "light"
     },
     "output_type": "display_data"
    }
   ],
   "source": [
    "weeks_df.plot.area(x = 'labels', y = 'vio_rolling', figsize = (10,5), color = 'tomato', title = 'Rolling Average of Violations Reported')\n",
    "weeks_df.plot.area(x = 'labels', y = 'cases_rolling', figsize = (10,5), color = 'darkturquoise', title = 'Rolling Average of New Covid Cases')\n",
    "weeks_df.plot.area(x = 'labels', y = 'death_rolling', figsize = (10,5), color = 'darkgray', title = 'Rolling Average of New Covid Deaths')\n",
    "plt.show()"
   ]
  },
  {
   "cell_type": "code",
   "execution_count": null,
   "metadata": {},
   "outputs": [],
   "source": []
  }
 ],
 "metadata": {
  "kernelspec": {
   "display_name": "Python 3",
   "language": "python",
   "name": "python3"
  },
  "language_info": {
   "codemirror_mode": {
    "name": "ipython",
    "version": 3
   },
   "file_extension": ".py",
   "mimetype": "text/x-python",
   "name": "python",
   "nbconvert_exporter": "python",
   "pygments_lexer": "ipython3",
   "version": "3.7.6"
  }
 },
 "nbformat": 4,
 "nbformat_minor": 4
}
