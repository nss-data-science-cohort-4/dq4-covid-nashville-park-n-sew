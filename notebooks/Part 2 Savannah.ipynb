{
 "cells": [
  {
   "cell_type": "markdown",
   "metadata": {},
   "source": [
    "# Importing Stuff"
   ]
  },
  {
   "cell_type": "code",
   "execution_count": null,
   "metadata": {},
   "outputs": [],
   "source": [
    "import pandas as pd\n",
    "import matplotlib.pyplot as plt"
   ]
  },
  {
   "cell_type": "code",
   "execution_count": 163,
   "metadata": {},
   "outputs": [],
   "source": [
    "hub_covid = pd.read_csv('../data/hub_covid_violations.csv')\n",
    "davidson_cases = pd.read_csv('../data/davidson_cases.csv')"
   ]
  },
  {
   "cell_type": "markdown",
   "metadata": {},
   "source": [
    "# Converting to Datetime"
   ]
  },
  {
   "cell_type": "code",
   "execution_count": 165,
   "metadata": {},
   "outputs": [],
   "source": [
    "hub_covid['Date / Time Opened'] = hub_covid['Date / Time Opened'][:-4]\n",
    "hub_covid['Date / Time Closed'] = hub_covid['Date / Time Closed'][:-4]"
   ]
  },
  {
   "cell_type": "code",
   "execution_count": 166,
   "metadata": {},
   "outputs": [],
   "source": [
    "hub_covid['Date / Time Opened'] = pd.to_datetime(hub_covid['Date / Time Opened'], format='%Y-%m-%d %H:%M:%S')\n",
    "hub_covid['Date / Time Closed'] = pd.to_datetime(hub_covid['Date / Time Closed'], format='%Y-%m-%d %H:%M:%S')"
   ]
  },
  {
   "cell_type": "code",
   "execution_count": 177,
   "metadata": {},
   "outputs": [
    {
     "data": {
      "text/html": [
       "<div>\n",
       "<style scoped>\n",
       "    .dataframe tbody tr th:only-of-type {\n",
       "        vertical-align: middle;\n",
       "    }\n",
       "\n",
       "    .dataframe tbody tr th {\n",
       "        vertical-align: top;\n",
       "    }\n",
       "\n",
       "    .dataframe thead th {\n",
       "        text-align: right;\n",
       "    }\n",
       "</style>\n",
       "<table border=\"1\" class=\"dataframe\">\n",
       "  <thead>\n",
       "    <tr style=\"text-align: right;\">\n",
       "      <th></th>\n",
       "      <th>date</th>\n",
       "      <th>county</th>\n",
       "      <th>state</th>\n",
       "      <th>fips</th>\n",
       "      <th>cases</th>\n",
       "      <th>deaths</th>\n",
       "      <th>month_day</th>\n",
       "    </tr>\n",
       "  </thead>\n",
       "  <tbody>\n",
       "    <tr>\n",
       "      <th>0</th>\n",
       "      <td>2020-03-08</td>\n",
       "      <td>Davidson</td>\n",
       "      <td>Tennessee</td>\n",
       "      <td>47037</td>\n",
       "      <td>1</td>\n",
       "      <td>0</td>\n",
       "      <td>03/08</td>\n",
       "    </tr>\n",
       "    <tr>\n",
       "      <th>1</th>\n",
       "      <td>2020-03-09</td>\n",
       "      <td>Davidson</td>\n",
       "      <td>Tennessee</td>\n",
       "      <td>47037</td>\n",
       "      <td>1</td>\n",
       "      <td>0</td>\n",
       "      <td>03/09</td>\n",
       "    </tr>\n",
       "  </tbody>\n",
       "</table>\n",
       "</div>"
      ],
      "text/plain": [
       "        date    county      state   fips  cases  deaths month_day\n",
       "0 2020-03-08  Davidson  Tennessee  47037      1       0     03/08\n",
       "1 2020-03-09  Davidson  Tennessee  47037      1       0     03/09"
      ]
     },
     "execution_count": 177,
     "metadata": {},
     "output_type": "execute_result"
    }
   ],
   "source": [
    "davidson_cases.head(2)"
   ]
  },
  {
   "cell_type": "code",
   "execution_count": 168,
   "metadata": {},
   "outputs": [],
   "source": [
    "davidson_cases['date'] = pd.to_datetime(davidson_cases['date'], format='%Y-%m-%d')"
   ]
  },
  {
   "cell_type": "code",
   "execution_count": 169,
   "metadata": {},
   "outputs": [],
   "source": [
    "hub_covid['month_day'] = hub_covid['Date / Time Opened'].dt.strftime('%m/%d')\n",
    "davidson_cases['month_day'] = davidson_cases['date'].dt.strftime('%m/%d')"
   ]
  },
  {
   "cell_type": "code",
   "execution_count": 178,
   "metadata": {},
   "outputs": [
    {
     "data": {
      "text/html": [
       "<div>\n",
       "<style scoped>\n",
       "    .dataframe tbody tr th:only-of-type {\n",
       "        vertical-align: middle;\n",
       "    }\n",
       "\n",
       "    .dataframe tbody tr th {\n",
       "        vertical-align: top;\n",
       "    }\n",
       "\n",
       "    .dataframe thead th {\n",
       "        text-align: right;\n",
       "    }\n",
       "</style>\n",
       "<table border=\"1\" class=\"dataframe\">\n",
       "  <thead>\n",
       "    <tr style=\"text-align: right;\">\n",
       "      <th></th>\n",
       "      <th>date</th>\n",
       "      <th>county</th>\n",
       "      <th>state</th>\n",
       "      <th>fips</th>\n",
       "      <th>cases</th>\n",
       "      <th>deaths</th>\n",
       "      <th>month_day</th>\n",
       "    </tr>\n",
       "  </thead>\n",
       "  <tbody>\n",
       "    <tr>\n",
       "      <th>0</th>\n",
       "      <td>2020-03-08</td>\n",
       "      <td>Davidson</td>\n",
       "      <td>Tennessee</td>\n",
       "      <td>47037</td>\n",
       "      <td>1</td>\n",
       "      <td>0</td>\n",
       "      <td>03/08</td>\n",
       "    </tr>\n",
       "    <tr>\n",
       "      <th>1</th>\n",
       "      <td>2020-03-09</td>\n",
       "      <td>Davidson</td>\n",
       "      <td>Tennessee</td>\n",
       "      <td>47037</td>\n",
       "      <td>1</td>\n",
       "      <td>0</td>\n",
       "      <td>03/09</td>\n",
       "    </tr>\n",
       "  </tbody>\n",
       "</table>\n",
       "</div>"
      ],
      "text/plain": [
       "        date    county      state   fips  cases  deaths month_day\n",
       "0 2020-03-08  Davidson  Tennessee  47037      1       0     03/08\n",
       "1 2020-03-09  Davidson  Tennessee  47037      1       0     03/09"
      ]
     },
     "execution_count": 178,
     "metadata": {},
     "output_type": "execute_result"
    }
   ],
   "source": [
    "davidson_cases.head(2)"
   ]
  },
  {
   "cell_type": "code",
   "execution_count": 186,
   "metadata": {},
   "outputs": [
    {
     "data": {
      "text/plain": [
       "array(['03/08', '03/09', '03/10', '03/11', '03/12', '03/13', '03/14',\n",
       "       '03/15', '03/16', '03/17', '03/18', '03/19', '03/20', '03/21',\n",
       "       '03/22', '03/23', '03/24', '03/25', '03/26', '03/27', '03/28',\n",
       "       '03/29', '03/30', '03/31', '04/01', '04/02', '04/03', '04/04',\n",
       "       '04/05', '04/06', '04/07', '04/08', '04/09', '04/10', '04/11',\n",
       "       '04/12', '04/13', '04/14', '04/15', '04/16', '04/17', '04/18',\n",
       "       '04/19', '04/20', '04/21', '04/22', '04/23', '04/24', '04/25',\n",
       "       '04/26', '04/27', '04/28', '04/29', '04/30', '05/01', '05/02',\n",
       "       '05/03', '05/04', '05/05', '05/06', '05/07', '05/08', '05/09',\n",
       "       '05/10', '05/11', '05/12', '05/13', '05/14', '05/15', '05/16',\n",
       "       '05/17', '05/18', '05/19', '05/20', '05/21', '05/22', '05/23',\n",
       "       '05/24', '05/25', '05/26', '05/27', '05/28', '05/29', '05/30',\n",
       "       '05/31', '06/01', '06/02', '06/03', '06/04', '06/05', '06/06',\n",
       "       '06/07', '06/08', '06/09', '06/10', '06/11', '06/12', '06/13',\n",
       "       '06/14', '06/15', '06/16', '06/17', '06/18', '06/19', '06/20',\n",
       "       '06/21', '06/22', '06/23', '06/24', '06/25', '06/26', '06/27',\n",
       "       '06/28', '06/29', '06/30', '07/01', '07/02', '07/03', '07/04',\n",
       "       '07/05', '07/06', '07/07', '07/08', '07/09', '07/10', '07/11',\n",
       "       '07/12', '07/13', '07/14', '07/15', '07/16', '07/17', '07/18',\n",
       "       '07/19', '07/20', '07/21', '07/22', '07/23', '07/24', '07/25',\n",
       "       '07/26', '07/27', '07/28', '07/29', '07/30', '07/31', '08/01',\n",
       "       '08/02', '08/03', '08/04', '08/05', '08/06', '08/07', '08/08',\n",
       "       '08/09', '08/10', '08/11', '08/12', '08/13', '08/14', '08/15',\n",
       "       '08/16', '08/17', '08/18', '08/19', '08/20', '08/21', '08/22',\n",
       "       '08/23', '08/24', '08/25', '08/26', '08/27', '08/28', '08/29',\n",
       "       '08/30', '08/31', '09/01', '09/02', '09/03', '09/04', '09/05',\n",
       "       '09/06', '09/07', '09/08', '09/09', '09/10', '09/11', '09/12',\n",
       "       '09/13', '09/14', '09/15', '09/16', '09/17', '09/18', '09/19',\n",
       "       '09/20', '09/21', '09/22', '09/23', '09/24', '09/25', '09/26',\n",
       "       '09/27', '09/28', '09/29', '09/30', '10/01', '10/02', '10/03',\n",
       "       '10/04', '10/05', '10/06', '10/07', '10/08', '10/09', '10/10',\n",
       "       '10/11', '10/12', '10/13', '10/14', '10/15', '10/16', '10/17',\n",
       "       '10/18', '10/19', '10/20', '10/21', '10/22', '10/23', '10/24',\n",
       "       '10/25', '10/26', '10/27', '10/28'], dtype=object)"
      ]
     },
     "execution_count": 186,
     "metadata": {},
     "output_type": "execute_result"
    }
   ],
   "source": [
    "sorted_davidson = davidson_cases.sort_values(by = 'month_day')\n",
    "sorted_davidson['month_day'].unique()"
   ]
  },
  {
   "cell_type": "code",
   "execution_count": 181,
   "metadata": {},
   "outputs": [
    {
     "data": {
      "text/html": [
       "<div>\n",
       "<style scoped>\n",
       "    .dataframe tbody tr th:only-of-type {\n",
       "        vertical-align: middle;\n",
       "    }\n",
       "\n",
       "    .dataframe tbody tr th {\n",
       "        vertical-align: top;\n",
       "    }\n",
       "\n",
       "    .dataframe thead th {\n",
       "        text-align: right;\n",
       "    }\n",
       "</style>\n",
       "<table border=\"1\" class=\"dataframe\">\n",
       "  <thead>\n",
       "    <tr style=\"text-align: right;\">\n",
       "      <th></th>\n",
       "      <th>date</th>\n",
       "      <th>county</th>\n",
       "      <th>state</th>\n",
       "      <th>fips</th>\n",
       "      <th>cases</th>\n",
       "      <th>deaths</th>\n",
       "      <th>month_day</th>\n",
       "    </tr>\n",
       "  </thead>\n",
       "  <tbody>\n",
       "    <tr>\n",
       "      <th>0</th>\n",
       "      <td>2020-03-08</td>\n",
       "      <td>Davidson</td>\n",
       "      <td>Tennessee</td>\n",
       "      <td>47037</td>\n",
       "      <td>1</td>\n",
       "      <td>0</td>\n",
       "      <td>03/08</td>\n",
       "    </tr>\n",
       "    <tr>\n",
       "      <th>1</th>\n",
       "      <td>2020-03-09</td>\n",
       "      <td>Davidson</td>\n",
       "      <td>Tennessee</td>\n",
       "      <td>47037</td>\n",
       "      <td>1</td>\n",
       "      <td>0</td>\n",
       "      <td>03/09</td>\n",
       "    </tr>\n",
       "    <tr>\n",
       "      <th>2</th>\n",
       "      <td>2020-03-10</td>\n",
       "      <td>Davidson</td>\n",
       "      <td>Tennessee</td>\n",
       "      <td>47037</td>\n",
       "      <td>1</td>\n",
       "      <td>0</td>\n",
       "      <td>03/10</td>\n",
       "    </tr>\n",
       "    <tr>\n",
       "      <th>3</th>\n",
       "      <td>2020-03-11</td>\n",
       "      <td>Davidson</td>\n",
       "      <td>Tennessee</td>\n",
       "      <td>47037</td>\n",
       "      <td>2</td>\n",
       "      <td>0</td>\n",
       "      <td>03/11</td>\n",
       "    </tr>\n",
       "    <tr>\n",
       "      <th>4</th>\n",
       "      <td>2020-03-12</td>\n",
       "      <td>Davidson</td>\n",
       "      <td>Tennessee</td>\n",
       "      <td>47037</td>\n",
       "      <td>6</td>\n",
       "      <td>0</td>\n",
       "      <td>03/12</td>\n",
       "    </tr>\n",
       "    <tr>\n",
       "      <th>...</th>\n",
       "      <td>...</td>\n",
       "      <td>...</td>\n",
       "      <td>...</td>\n",
       "      <td>...</td>\n",
       "      <td>...</td>\n",
       "      <td>...</td>\n",
       "      <td>...</td>\n",
       "    </tr>\n",
       "    <tr>\n",
       "      <th>230</th>\n",
       "      <td>2020-10-24</td>\n",
       "      <td>Davidson</td>\n",
       "      <td>Tennessee</td>\n",
       "      <td>47037</td>\n",
       "      <td>33016</td>\n",
       "      <td>336</td>\n",
       "      <td>10/24</td>\n",
       "    </tr>\n",
       "    <tr>\n",
       "      <th>231</th>\n",
       "      <td>2020-10-25</td>\n",
       "      <td>Davidson</td>\n",
       "      <td>Tennessee</td>\n",
       "      <td>47037</td>\n",
       "      <td>33259</td>\n",
       "      <td>337</td>\n",
       "      <td>10/25</td>\n",
       "    </tr>\n",
       "    <tr>\n",
       "      <th>232</th>\n",
       "      <td>2020-10-26</td>\n",
       "      <td>Davidson</td>\n",
       "      <td>Tennessee</td>\n",
       "      <td>47037</td>\n",
       "      <td>33699</td>\n",
       "      <td>343</td>\n",
       "      <td>10/26</td>\n",
       "    </tr>\n",
       "    <tr>\n",
       "      <th>233</th>\n",
       "      <td>2020-10-27</td>\n",
       "      <td>Davidson</td>\n",
       "      <td>Tennessee</td>\n",
       "      <td>47037</td>\n",
       "      <td>33957</td>\n",
       "      <td>341</td>\n",
       "      <td>10/27</td>\n",
       "    </tr>\n",
       "    <tr>\n",
       "      <th>234</th>\n",
       "      <td>2020-10-28</td>\n",
       "      <td>Davidson</td>\n",
       "      <td>Tennessee</td>\n",
       "      <td>47037</td>\n",
       "      <td>34156</td>\n",
       "      <td>346</td>\n",
       "      <td>10/28</td>\n",
       "    </tr>\n",
       "  </tbody>\n",
       "</table>\n",
       "<p>235 rows × 7 columns</p>\n",
       "</div>"
      ],
      "text/plain": [
       "          date    county      state   fips  cases  deaths month_day\n",
       "0   2020-03-08  Davidson  Tennessee  47037      1       0     03/08\n",
       "1   2020-03-09  Davidson  Tennessee  47037      1       0     03/09\n",
       "2   2020-03-10  Davidson  Tennessee  47037      1       0     03/10\n",
       "3   2020-03-11  Davidson  Tennessee  47037      2       0     03/11\n",
       "4   2020-03-12  Davidson  Tennessee  47037      6       0     03/12\n",
       "..         ...       ...        ...    ...    ...     ...       ...\n",
       "230 2020-10-24  Davidson  Tennessee  47037  33016     336     10/24\n",
       "231 2020-10-25  Davidson  Tennessee  47037  33259     337     10/25\n",
       "232 2020-10-26  Davidson  Tennessee  47037  33699     343     10/26\n",
       "233 2020-10-27  Davidson  Tennessee  47037  33957     341     10/27\n",
       "234 2020-10-28  Davidson  Tennessee  47037  34156     346     10/28\n",
       "\n",
       "[235 rows x 7 columns]"
      ]
     },
     "execution_count": 181,
     "metadata": {},
     "output_type": "execute_result"
    }
   ],
   "source": [
    "sorted_davidson"
   ]
  },
  {
   "cell_type": "code",
   "execution_count": 190,
   "metadata": {},
   "outputs": [],
   "source": [
    "sorted_covid = hub_covid.sort_values(by = 'month_day')"
   ]
  },
  {
   "cell_type": "markdown",
   "metadata": {},
   "source": [
    "# Creating Line Plots"
   ]
  },
  {
   "cell_type": "code",
   "execution_count": 191,
   "metadata": {},
   "outputs": [
    {
     "ename": "SyntaxError",
     "evalue": "invalid syntax (<ipython-input-191-46929c7557bf>, line 3)",
     "output_type": "error",
     "traceback": [
      "\u001b[1;36m  File \u001b[1;32m\"<ipython-input-191-46929c7557bf>\"\u001b[1;36m, line \u001b[1;32m3\u001b[0m\n\u001b[1;33m    sorted_covid['month_day']plot.area(x = 'date')\u001b[0m\n\u001b[1;37m                                ^\u001b[0m\n\u001b[1;31mSyntaxError\u001b[0m\u001b[1;31m:\u001b[0m invalid syntax\n"
     ]
    }
   ],
   "source": [
    "#index=pd.date_range(start='2018/01/01', end='2018/07/01',\n",
    "                       #freq='M'))\n",
    "sorted_covid['month_day']plot.area(x = 'date')"
   ]
  },
  {
   "cell_type": "markdown",
   "metadata": {},
   "source": [
    "need to make line plot for cases for davison not dates"
   ]
  },
  {
   "cell_type": "code",
   "execution_count": 173,
   "metadata": {},
   "outputs": [
    {
     "data": {
      "text/plain": [
       "<matplotlib.axes._subplots.AxesSubplot at 0x15205e77b88>"
      ]
     },
     "execution_count": 173,
     "metadata": {},
     "output_type": "execute_result"
    },
    {
     "data": {
      "image/png": "[encoded data removed]",
      "text/plain": [
       "<Figure size 432x288 with 1 Axes>"
      ]
     },
     "metadata": {
      "needs_background": "light"
     },
     "output_type": "display_data"
    }
   ],
   "source": [
    "davidson_cases['month_day'].value_counts().plot.area()"
   ]
  },
  {
   "cell_type": "code",
   "execution_count": 189,
   "metadata": {},
   "outputs": [
    {
     "data": {
      "text/plain": [
       "<matplotlib.axes._subplots.AxesSubplot at 0x152060afd88>"
      ]
     },
     "execution_count": 189,
     "metadata": {},
     "output_type": "execute_result"
    },
    {
     "data": {
      "image/png": "[encoded data removed]",
      "text/plain": [
       "<Figure size 432x288 with 1 Axes>"
      ]
     },
     "metadata": {
      "needs_background": "light"
     },
     "output_type": "display_data"
    }
   ],
   "source": [
    "sorted_davidson.plot.area(x = 'month_day', y = 'cases')"
   ]
  },
  {
   "cell_type": "code",
   "execution_count": null,
   "metadata": {},
   "outputs": [],
   "source": []
  }
 ],
 "metadata": {
  "kernelspec": {
   "display_name": "Python 3",
   "language": "python",
   "name": "python3"
  },
  "language_info": {
   "codemirror_mode": {
    "name": "ipython",
    "version": 3
   },
   "file_extension": ".py",
   "mimetype": "text/x-python",
   "name": "python",
   "nbconvert_exporter": "python",
   "pygments_lexer": "ipython3",
   "version": "3.7.6"
  }
 },
 "nbformat": 4,
 "nbformat_minor": 4
}
